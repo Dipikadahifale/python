{
  "nbformat": 4,
  "nbformat_minor": 0,
  "metadata": {
    "colab": {
      "provenance": [],
      "authorship_tag": "ABX9TyOLLCPPz7PkIpgvBXr3LHA6",
      "include_colab_link": true
    },
    "kernelspec": {
      "name": "python3",
      "display_name": "Python 3"
    },
    "language_info": {
      "name": "python"
    }
  },
  "cells": [
    {
      "cell_type": "markdown",
      "metadata": {
        "id": "view-in-github",
        "colab_type": "text"
      },
      "source": [
        "<a href=\"https://colab.research.google.com/github/Dipikadahifale/python/blob/main/csvfile.ipynb\" target=\"_parent\"><img src=\"https://colab.research.google.com/assets/colab-badge.svg\" alt=\"Open In Colab\"/></a>"
      ]
    },
    {
      "cell_type": "code",
      "execution_count": null,
      "metadata": {
        "colab": {
          "base_uri": "https://localhost:8080/"
        },
        "id": "duslaGuvNGp1",
        "outputId": "af84c6ac-4371-4635-83cc-4405819907ac"
      },
      "outputs": [
        {
          "output_type": "stream",
          "name": "stdout",
          "text": [
            "['roll', 'name', 'email']\n",
            "['10', 'dips', 'dipi@gmail.com']\n",
            "['11', 'vidya', 'vidya@gmail.com']\n",
            "['14', 'janhavi', 'janhavi@gmail.com']\n",
            "b'\\x01\\x02\\x03\\\\9839332'\n"
          ]
        }
      ],
      "source": [
        "import csv\n",
        "data = [[\"roll\",\"name\",\"email\"],\n",
        "        [ \"10\",\"dips\",\"dipi@gmail.com\"],\n",
        "        [ \"11\",\"vidya\",\"vidya@gmail.com\"],\n",
        "        [ \"14\",\"janhavi\",\"janhavi@gmail.com\"]\n",
        "         ]\n",
        "\n",
        "with open(\"data.csv\",\"w\") as f:\n",
        "    writer= csv.writer(f)  # writerrow is\n",
        "\n",
        "    for i in data:\n",
        "      writer.writerow(i);\n",
        "\n",
        "with open(\"data.csv\",\"r\") as f:\n",
        "   read_data =csv.reader(f)\n",
        "\n",
        "   for i in read_data:\n",
        "       print(i) ;\n",
        "\n",
        "with open (\"test4.bin\",\"wb\") as f:\n",
        "   f.write(b\"\\x01\\x02\\x03\\9839332\")\n",
        "\n",
        "with open (\"test4.bin\",\"rb\") as f:\n",
        "      print( f.read())"
      ]
    }
  ]
}